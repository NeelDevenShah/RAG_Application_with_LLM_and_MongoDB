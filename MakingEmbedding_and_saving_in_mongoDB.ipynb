{
 "cells": [
  {
   "cell_type": "code",
   "execution_count": 3,
   "metadata": {},
   "outputs": [],
   "source": [
    "import pymongo\n",
    "import os\n",
    "import requests\n",
    "import json"
   ]
  },
  {
   "cell_type": "markdown",
   "metadata": {},
   "source": [
    "<h1>In this, I have used the api-interface of the hugging face for using tokenizer</h1>\n",
    "But there is the limit of using the apiinterface of the hugging face, that why i have made the endpoint named server under Tokenizer_Server directory which can be deployed on the cloud service and the tokenizer service can be utilized, For experimental purpose this server was hosted on azure."
   ]
  },
  {
   "cell_type": "code",
   "execution_count": 21,
   "metadata": {},
   "outputs": [],
   "source": [
    "# Connect to MongoDB\n",
    "client = pymongo.MongoClient(os.environ.get(\"MONGO_URI\"))\n",
    "db = client[os.environ.get(\"DATABASE\")]\n",
    "collection = db[os.environ.get(\"COLLECTION\")]"
   ]
  },
  {
   "cell_type": "code",
   "execution_count": 67,
   "metadata": {},
   "outputs": [],
   "source": [
    "from bson import ObjectId\n",
    "def convert_json_to_text(json_obj):\n",
    "    \"\"\"\n",
    "    Converts a JSON object to simple text.\n",
    "\n",
    "    Args:\n",
    "        json_obj (dict): A JSON object.\n",
    "\n",
    "    Returns:\n",
    "        str: The JSON object converted to simple text.\n",
    "    \"\"\"\n",
    "    def default_encoder(obj):\n",
    "        if isinstance(obj, ObjectId):\n",
    "            return str(obj)\n",
    "        raise TypeError(f\"Object of type {type(obj)} is not JSON serializable\")\n",
    "\n",
    "    return json.dumps(json_obj, default=default_encoder)"
   ]
  },
  {
   "cell_type": "code",
   "execution_count": 91,
   "metadata": {},
   "outputs": [],
   "source": [
    "\n",
    "def custom_embedding(texts, model_id=\"sentence-transformers/all-MiniLM-L6-v2\"):\n",
    "    \"\"\"\n",
    "    Generates embeddings for a list of texts using the Hugging Face API.\n",
    "\n",
    "    Args:\n",
    "        texts (list): A list of strings containing the text inputs.\n",
    "        model_id (str, optional): The ID of the pre-trained model to use. Defaults to \"sentence-transformers/all-MiniLM-L6-v2\".\n",
    "\n",
    "    Returns:\n",
    "        list: A list of embeddings, where each embedding is a dense vector representing the corresponding text.\n",
    "    \"\"\"\n",
    "    # Read the JSON file and extract the values\n",
    "    texts = convert_json_to_text(texts)\n",
    "    print(texts)\n",
    "    print(type(texts))\n",
    "    print(\"-----------------------\")\n",
    "        \n",
    "    url = f\"https://api-inference.huggingface.co/pipeline/feature-extraction/{model_id}\"\n",
    "\n",
    "    # Assuming you have a Hugging Face access token stored securely (not recommended in production)\n",
    "    headers = {\"Authorization\": os.environ.get(\"HUGGINGFACE_TOKEN\")}\n",
    "\n",
    "    # data = {\"inputs\": []}\n",
    "    \n",
    "    # for text in texts:\n",
    "    #     # Convert _id to string if it exists\n",
    "    #     if hasattr(text, \"_id\"):\n",
    "    #         text[\"_id\"] = str(text[\"_id\"])\n",
    "    #     data[\"inputs\"].append(text)\n",
    "    # print(data)\n",
    "    \n",
    "    response = requests.post(url, headers=headers, json=texts)\n",
    "    if response.status_code == 200:\n",
    "        embeddings = response.json()\n",
    "        return embeddings\n",
    "    else:\n",
    "        print(response.json())\n",
    "        print(f\"Error: {response.status_code}\")\n",
    "        return None\n"
   ]
  },
  {
   "cell_type": "code",
   "execution_count": 86,
   "metadata": {},
   "outputs": [],
   "source": [
    "cluster_data = collection.find()"
   ]
  },
  {
   "cell_type": "code",
   "execution_count": 94,
   "metadata": {},
   "outputs": [
    {
     "name": "stdout",
     "output_type": "stream",
     "text": [
      "{'_id': ObjectId('6600612b87f42350f791c9c7'), 'Unnamed: 0': 5, 'Airline Name': 'Adria Airways', 'Overall_Rating': '1', 'Review_Title': '\"Had very bad experience\"', 'Review Date': '17th September 2019', 'Verified': True, 'Review': '  Had very bad experience with rerouted and cancelled flights last weekend with Adria airways. Original Route was Ljubljana to Sarajevo return. Two weeks before i received an email that the flight was cancelled. Offered route change was Ljubljana to Sarajevo via Munich. Flight back changed to Sarajevo-Pristina-Ljubljana. I accepted. The first flight via Munich was ok. Two hours before the return flight I got the email that the flight was cancelled. I had to rebook via hotline and had to accept a flight with Croatian to Zagreb. I reached Ljubljana 4 h later and had to organize Transport from Zagreb to Ljubljana on my own cost. Do not book flights with Adria airways. I heard that their financial situation is very very bad.', 'Aircraft': 'CR 900', 'Type Of Traveller': 'Couple Leisure', 'Seat Type': 'Economy Class', 'Route': 'Sarajevo to Ljubljana', 'Date Flown': 'September 2019', 'Seat Comfort': 1.0, 'Cabin Staff Service': 1.0, 'Food & Beverages': 1.0, 'Ground Service': 1.0, 'Inflight Entertainment': 1.0, 'Wifi & Connectivity': 1.0, 'Value For Money': 1.0, 'Recommended': 'no'}\n",
      "{\"_id\": \"6600612b87f42350f791c9c7\", \"Unnamed: 0\": 5, \"Airline Name\": \"Adria Airways\", \"Overall_Rating\": \"1\", \"Review_Title\": \"\\\"Had very bad experience\\\"\", \"Review Date\": \"17th September 2019\", \"Verified\": true, \"Review\": \"  Had very bad experience with rerouted and cancelled flights last weekend with Adria airways. Original Route was Ljubljana to Sarajevo return. Two weeks before i received an email that the flight was cancelled. Offered route change was Ljubljana to Sarajevo via Munich. Flight back changed to Sarajevo-Pristina-Ljubljana. I accepted. The first flight via Munich was ok. Two hours before the return flight I got the email that the flight was cancelled. I had to rebook via hotline and had to accept a flight with Croatian to Zagreb. I reached Ljubljana 4 h later and had to organize Transport from Zagreb to Ljubljana on my own cost. Do not book flights with Adria airways. I heard that their financial situation is very very bad.\", \"Aircraft\": \"CR 900\", \"Type Of Traveller\": \"Couple Leisure\", \"Seat Type\": \"Economy Class\", \"Route\": \"Sarajevo to Ljubljana\", \"Date Flown\": \"September 2019\", \"Seat Comfort\": 1.0, \"Cabin Staff Service\": 1.0, \"Food & Beverages\": 1.0, \"Ground Service\": 1.0, \"Inflight Entertainment\": 1.0, \"Wifi & Connectivity\": 1.0, \"Value For Money\": 1.0, \"Recommended\": \"no\"}\n",
      "<class 'str'>\n",
      "-----------------------\n",
      "{'error': 'Rate limit reached. Please log in or use your apiToken'}\n",
      "Error: 429\n",
      "None\n"
     ]
    }
   ],
   "source": [
    "# Iterate over the data and add the embedding to each document\n",
    "for data in cluster_data:\n",
    "    print(data)\n",
    "    embedding = custom_embedding(data)\n",
    "    # collection.update_one({\"_id\": data[\"_id\"]}, {\"$set\": {\"embedding\": embedding}})\n",
    "    print(embedding)\n",
    "    break"
   ]
  },
  {
   "cell_type": "code",
   "execution_count": null,
   "metadata": {},
   "outputs": [],
   "source": []
  }
 ],
 "metadata": {
  "kernelspec": {
   "display_name": "base",
   "language": "python",
   "name": "python3"
  },
  "language_info": {
   "codemirror_mode": {
    "name": "ipython",
    "version": 3
   },
   "file_extension": ".py",
   "mimetype": "text/x-python",
   "name": "python",
   "nbconvert_exporter": "python",
   "pygments_lexer": "ipython3",
   "version": "3.9.13"
  }
 },
 "nbformat": 4,
 "nbformat_minor": 2
}
