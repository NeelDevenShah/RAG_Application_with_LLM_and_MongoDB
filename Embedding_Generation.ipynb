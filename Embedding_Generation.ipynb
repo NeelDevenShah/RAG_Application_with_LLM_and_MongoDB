{
 "cells": [
  {
   "cell_type": "code",
   "execution_count": 11,
   "metadata": {},
   "outputs": [],
   "source": [
    "import requests\n",
    "import os\n",
    "\n",
    "def generate_embeddings(texts, model_id=\"sentence-transformers/all-MiniLM-L6-v2\"):\n",
    "    \"\"\"\n",
    "    Generates embeddings for a list of texts using the Hugging Face API.\n",
    "\n",
    "    Args:\n",
    "        texts (list): A list of strings containing the text inputs.\n",
    "        model_id (str, optional): The ID of the pre-trained model to use. Defaults to \"sentence-transformers/all-MiniLM-L6-v2\".\n",
    "\n",
    "    Returns:\n",
    "        list: A list of embeddings, where each embedding is a dense vector representing the corresponding text.\n",
    "    \"\"\"\n",
    "\n",
    "    url = f\"https://api-inference.huggingface.co/pipeline/feature-extraction/{model_id}\"\n",
    "\n",
    "    # Assuming you have a Hugging Face access token stored securely (not recommended in production)\n",
    "    headers = {\"Authorization\": f\"Bearer {os.environ.get('API_KEY')}\"}\n",
    "\n",
    "    data = {\"inputs\": texts}\n",
    "    response = requests.post(url, headers=headers, json=data)\n",
    "    if response.status_code == 200:\n",
    "        embeddings = response.json()\n",
    "        return embeddings\n",
    "    else:\n",
    "        print(f\"Error: {response.status_code}\")\n",
    "        return None\n"
   ]
  },
  {
   "cell_type": "code",
   "execution_count": 15,
   "metadata": {},
   "outputs": [
    {
     "data": {
      "text/plain": [
       "384"
      ]
     },
     "execution_count": 15,
     "metadata": {},
     "output_type": "execute_result"
    }
   ],
   "source": [
    "len(generate_embeddings(\"my name is neel shah\"))"
   ]
  }
 ],
 "metadata": {
  "kernelspec": {
   "display_name": "base",
   "language": "python",
   "name": "python3"
  },
  "language_info": {
   "codemirror_mode": {
    "name": "ipython",
    "version": 3
   },
   "file_extension": ".py",
   "mimetype": "text/x-python",
   "name": "python",
   "nbconvert_exporter": "python",
   "pygments_lexer": "ipython3",
   "version": "3.9.13"
  }
 },
 "nbformat": 4,
 "nbformat_minor": 2
}
